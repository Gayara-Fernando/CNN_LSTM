{
 "cells": [
  {
   "cell_type": "code",
   "execution_count": 1,
   "id": "9f7657fc-97b8-48e9-9bae-af8af725f3af",
   "metadata": {},
   "outputs": [],
   "source": [
    "# Let's do a sanity check to see if the data we have frrom today and yesterday are the same"
   ]
  },
  {
   "cell_type": "code",
   "execution_count": 2,
   "id": "746902cb-144a-48fb-bc2e-4282fc3eefac",
   "metadata": {},
   "outputs": [],
   "source": [
    "import pandas as pd\n",
    "import numpy as np\n",
    "import os"
   ]
  },
  {
   "cell_type": "code",
   "execution_count": 3,
   "id": "139fcf2f-15b9-4dc7-83fa-e88b43c91ffb",
   "metadata": {},
   "outputs": [],
   "source": [
    "Old_data_loc = 'All_data'\n",
    "New_data_loc = 'All_data_alt'"
   ]
  },
  {
   "cell_type": "code",
   "execution_count": 4,
   "id": "7356f4b5-5788-4370-bef4-c2a2da5c8f97",
   "metadata": {},
   "outputs": [],
   "source": [
    "# names of the blocks\n",
    "all_blocks = ['block_0101', 'block_0102', 'block_0103', 'block_0104', 'block_0105', 'block_0106',\n",
    "              'block_0201', 'block_0202', 'block_0203', 'block_0204', 'block_0205', 'block_0206',\n",
    "              'block_0301', 'block_0302', 'block_0303', 'block_0304', 'block_0305', 'block_0306']"
   ]
  },
  {
   "cell_type": "code",
   "execution_count": 5,
   "id": "2d31b262-0ba2-4e11-b98e-9e75305c2a34",
   "metadata": {},
   "outputs": [],
   "source": [
    "# Maybe we should only match th stacked data"
   ]
  },
  {
   "cell_type": "code",
   "execution_count": 6,
   "id": "32d15f4f-3e96-4cb8-aa55-56667eff7791",
   "metadata": {},
   "outputs": [],
   "source": [
    "path_complete_old_0101 = os.path.join(Old_data_loc, all_blocks[0])\n",
    "path_complete_new_0101 = os.path.join(New_data_loc, all_blocks[0])"
   ]
  },
  {
   "cell_type": "code",
   "execution_count": 7,
   "id": "6f018cac-aecf-4eca-afbd-0e6a6c8697a8",
   "metadata": {},
   "outputs": [],
   "source": [
    "np_files_old = [file for file in os.listdir(path_complete_old_0101) if file.split('.')[-1] == 'npy']\n",
    "np_files_new = [file for file in os.listdir(path_complete_new_0101) if file.split('.')[-1] == 'npy']"
   ]
  },
  {
   "cell_type": "code",
   "execution_count": 8,
   "id": "76a2f8cc-4071-4ffa-bc81-5bb4a9b2fe7e",
   "metadata": {},
   "outputs": [],
   "source": [
    "dense_old_0101 = np.load(os.path.join(path_complete_old_0101, np_files_old[0]))\n",
    "dense_new_0101 = np.load(os.path.join(path_complete_new_0101, np_files_new[0]))"
   ]
  },
  {
   "cell_type": "code",
   "execution_count": 9,
   "id": "dc1db012-ce0d-44df-8387-7afde18ec4cc",
   "metadata": {},
   "outputs": [
    {
     "data": {
      "text/plain": [
       "1.0"
      ]
     },
     "execution_count": 9,
     "metadata": {},
     "output_type": "execute_result"
    }
   ],
   "source": [
    "np.mean(dense_old_0101 == dense_new_0101)"
   ]
  },
  {
   "cell_type": "code",
   "execution_count": 10,
   "id": "f4fe16fb-4bcb-40f5-b6c9-0d33b7bb9cf4",
   "metadata": {},
   "outputs": [],
   "source": [
    "sub_old_0101 = np.load(os.path.join(path_complete_old_0101, np_files_old[-1]))\n",
    "sub_new_0101 = np.load(os.path.join(path_complete_new_0101, np_files_new[-1]))"
   ]
  },
  {
   "cell_type": "code",
   "execution_count": 11,
   "id": "86b15000-c27a-4f1e-affd-afd4384bace6",
   "metadata": {},
   "outputs": [
    {
     "data": {
      "text/plain": [
       "1.0"
      ]
     },
     "execution_count": 11,
     "metadata": {},
     "output_type": "execute_result"
    }
   ],
   "source": [
    "np.mean(sub_old_0101 == sub_new_0101)"
   ]
  },
  {
   "cell_type": "code",
   "execution_count": 12,
   "id": "72b6ad4b-74ed-47e1-af3f-19a6d4023d3c",
   "metadata": {},
   "outputs": [],
   "source": [
    "# Have this in a function?\n",
    "\n",
    "def sanity_check_old_and_new(old_loc, new_loc, block):\n",
    "    old_path = os.path.join(old_loc, block)\n",
    "    new_path = os.path.join(new_loc, block)\n",
    "\n",
    "    np_files_old = [file for file in os.listdir(old_path) if file.split('.')[-1] == 'npy']\n",
    "    np_files_new = [file for file in os.listdir(new_path) if file.split('.')[-1] == 'npy']\n",
    "    np_files_old.sort()\n",
    "    np_files_new.sort()\n",
    "\n",
    "    dense_old = np.load(os.path.join(old_path, np_files_old[0]))\n",
    "    dense_new = np.load(os.path.join(new_path, np_files_new[0]))\n",
    "    print(dense_old.shape, dense_new.shape)\n",
    "\n",
    "    # print mean\n",
    "    print(np.mean(dense_old == dense_new))\n",
    "\n",
    "    sub_old = np.load(os.path.join(old_path, np_files_old[-1]))\n",
    "    sub_new = np.load(os.path.join(new_path, np_files_new[-1]))\n",
    "    print(sub_old.shape, sub_new.shape)\n",
    "\n",
    "    print(np.mean(sub_old == sub_new))\n",
    "    print(\"Done here\")\n",
    "\n",
    "    return(block)"
   ]
  },
  {
   "cell_type": "code",
   "execution_count": 13,
   "id": "9ecc793e-b66d-4a4f-b25c-7304c3278002",
   "metadata": {},
   "outputs": [
    {
     "name": "stdout",
     "output_type": "stream",
     "text": [
      "(12288, 7) (12288, 7)\n",
      "1.0\n",
      "(12288, 13, 32, 32, 3) (12288, 13, 32, 32, 3)\n",
      "1.0\n",
      "Done here\n",
      "(12288, 7) (12288, 7)\n",
      "1.0\n",
      "(12288, 13, 32, 32, 3) (12288, 13, 32, 32, 3)\n",
      "1.0\n",
      "Done here\n",
      "(12288, 7) (12288, 7)\n",
      "1.0\n",
      "(12288, 13, 32, 32, 3) (12288, 13, 32, 32, 3)\n",
      "1.0\n",
      "Done here\n",
      "(12288, 7) (12288, 7)\n",
      "1.0\n",
      "(12288, 13, 32, 32, 3) (12288, 13, 32, 32, 3)\n",
      "1.0\n",
      "Done here\n",
      "(12288, 7) (12288, 7)\n",
      "1.0\n",
      "(12288, 13, 32, 32, 3) (12288, 13, 32, 32, 3)\n",
      "1.0\n",
      "Done here\n",
      "(12288, 7) (12288, 7)\n",
      "1.0\n",
      "(12288, 13, 32, 32, 3) (12288, 13, 32, 32, 3)\n",
      "1.0\n",
      "Done here\n",
      "(12288, 7) (12288, 7)\n",
      "1.0\n",
      "(12288, 13, 32, 32, 3) (12288, 13, 32, 32, 3)\n",
      "1.0\n",
      "Done here\n",
      "(12288, 7) (12288, 7)\n",
      "1.0\n",
      "(12288, 13, 32, 32, 3) (12288, 13, 32, 32, 3)\n",
      "1.0\n",
      "Done here\n",
      "(12288, 7) (12288, 7)\n",
      "1.0\n",
      "(12288, 13, 32, 32, 3) (12288, 13, 32, 32, 3)\n",
      "1.0\n",
      "Done here\n",
      "(12288, 7) (12288, 7)\n",
      "1.0\n",
      "(12288, 13, 32, 32, 3) (12288, 13, 32, 32, 3)\n",
      "1.0\n",
      "Done here\n",
      "(12288, 7) (12288, 7)\n",
      "1.0\n",
      "(12288, 13, 32, 32, 3) (12288, 13, 32, 32, 3)\n",
      "1.0\n",
      "Done here\n",
      "(12288, 7) (12288, 7)\n",
      "1.0\n",
      "(12288, 13, 32, 32, 3) (12288, 13, 32, 32, 3)\n",
      "1.0\n",
      "Done here\n",
      "(12288, 7) (12288, 7)\n",
      "1.0\n",
      "(12288, 13, 32, 32, 3) (12288, 13, 32, 32, 3)\n",
      "1.0\n",
      "Done here\n",
      "(12288, 7) (12288, 7)\n",
      "1.0\n",
      "(12288, 13, 32, 32, 3) (12288, 13, 32, 32, 3)\n",
      "1.0\n",
      "Done here\n",
      "(12288, 7) (12288, 7)\n",
      "1.0\n",
      "(12288, 13, 32, 32, 3) (12288, 13, 32, 32, 3)\n",
      "1.0\n",
      "Done here\n",
      "(12288, 7) (12288, 7)\n",
      "1.0\n",
      "(12288, 13, 32, 32, 3) (12288, 13, 32, 32, 3)\n",
      "1.0\n",
      "Done here\n",
      "(12288, 7) (12288, 7)\n",
      "1.0\n",
      "(12288, 13, 32, 32, 3) (12288, 13, 32, 32, 3)\n",
      "1.0\n",
      "Done here\n",
      "(12288, 7) (12288, 7)\n",
      "1.0\n",
      "(12288, 13, 32, 32, 3) (12288, 13, 32, 32, 3)\n",
      "1.0\n",
      "Done here\n",
      "CPU times: user 16.6 s, sys: 2min 45s, total: 3min 2s\n",
      "Wall time: 39min 13s\n"
     ]
    }
   ],
   "source": [
    "%%time\n",
    "# run this in a loop\n",
    "catch_all_blocks = []\n",
    "for block in all_blocks:\n",
    "    blk = sanity_check_old_and_new(Old_data_loc, New_data_loc, block)\n",
    "    catch_all_blocks.append(blk)"
   ]
  },
  {
   "cell_type": "code",
   "execution_count": 14,
   "id": "6a46d4c3-217c-4039-8098-d82fab61e140",
   "metadata": {},
   "outputs": [],
   "source": [
    "path_complete_old_0201 = os.path.join(Old_data_loc, all_blocks[6])\n",
    "path_complete_new_0201 = os.path.join(New_data_loc, all_blocks[6])"
   ]
  },
  {
   "cell_type": "code",
   "execution_count": 15,
   "id": "e072949f-c45d-4638-a759-e76774ae8295",
   "metadata": {},
   "outputs": [],
   "source": [
    "np_files_old = [file for file in os.listdir(path_complete_old_0201) if file.split('.')[-1] == 'npy']\n",
    "np_files_new = [file for file in os.listdir(path_complete_new_0201) if file.split('.')[-1] == 'npy']"
   ]
  },
  {
   "cell_type": "code",
   "execution_count": 16,
   "id": "e9b3a37c-85fc-4420-a1fb-04357ee6e503",
   "metadata": {},
   "outputs": [
    {
     "data": {
      "text/plain": [
       "(None, None)"
      ]
     },
     "execution_count": 16,
     "metadata": {},
     "output_type": "execute_result"
    }
   ],
   "source": [
    "np_files_old.sort(), np_files_new.sort()"
   ]
  },
  {
   "cell_type": "code",
   "execution_count": 17,
   "id": "393811f6-3866-4170-af96-68100aec2599",
   "metadata": {},
   "outputs": [
    {
     "data": {
      "text/plain": [
       "['density_maps_seqs_0201.npy', 'subwindow_seqs_0201.npy']"
      ]
     },
     "execution_count": 17,
     "metadata": {},
     "output_type": "execute_result"
    }
   ],
   "source": [
    "np_files_old"
   ]
  },
  {
   "cell_type": "code",
   "execution_count": 18,
   "id": "2b19af9d-bb0b-4870-b98c-b736fc2eb68c",
   "metadata": {},
   "outputs": [
    {
     "data": {
      "text/plain": [
       "['density_maps_seqs_0201.npy', 'subwindow_seqs_0201.npy']"
      ]
     },
     "execution_count": 18,
     "metadata": {},
     "output_type": "execute_result"
    }
   ],
   "source": [
    "np_files_new"
   ]
  },
  {
   "cell_type": "code",
   "execution_count": 19,
   "id": "e14d03af-727b-48a0-9843-b983e223120e",
   "metadata": {},
   "outputs": [],
   "source": [
    "dense_old_0201 = np.load(os.path.join(path_complete_old_0201, np_files_old[0]))\n",
    "dense_new_0201 = np.load(os.path.join(path_complete_new_0201, np_files_new[0]))"
   ]
  },
  {
   "cell_type": "code",
   "execution_count": 20,
   "id": "72b084b5-dfe3-4402-b97c-c0b21463618f",
   "metadata": {},
   "outputs": [
    {
     "data": {
      "text/plain": [
       "(12288, 7)"
      ]
     },
     "execution_count": 20,
     "metadata": {},
     "output_type": "execute_result"
    }
   ],
   "source": [
    "dense_old_0201.shape"
   ]
  },
  {
   "cell_type": "code",
   "execution_count": 21,
   "id": "f4bba31a-9daf-4a0b-8eea-e79b85efdee0",
   "metadata": {},
   "outputs": [
    {
     "data": {
      "text/plain": [
       "(12288, 7)"
      ]
     },
     "execution_count": 21,
     "metadata": {},
     "output_type": "execute_result"
    }
   ],
   "source": [
    "dense_new_0201.shape"
   ]
  },
  {
   "cell_type": "code",
   "execution_count": 23,
   "id": "7e81ade1-1fbb-445e-8917-c45bad2525b0",
   "metadata": {},
   "outputs": [],
   "source": [
    "sub_old_0101 = np.load(os.path.join(path_complete_old_0201, np_files_old[-1]))\n",
    "sub_new_0101 = np.load(os.path.join(path_complete_new_0201, np_files_new[-1]))"
   ]
  },
  {
   "cell_type": "code",
   "execution_count": 24,
   "id": "7350f677-0d57-4a70-ade4-f6a65745a5dd",
   "metadata": {},
   "outputs": [
    {
     "data": {
      "text/plain": [
       "((12288, 13, 32, 32, 3), (12288, 13, 32, 32, 3))"
      ]
     },
     "execution_count": 24,
     "metadata": {},
     "output_type": "execute_result"
    }
   ],
   "source": [
    "sub_old_0101.shape, sub_new_0101.shape"
   ]
  }
 ],
 "metadata": {
  "kernelspec": {
   "display_name": "Python (tfp_for_TN)",
   "language": "python",
   "name": "tfp_for_tn"
  },
  "language_info": {
   "codemirror_mode": {
    "name": "ipython",
    "version": 3
   },
   "file_extension": ".py",
   "mimetype": "text/x-python",
   "name": "python",
   "nbconvert_exporter": "python",
   "pygments_lexer": "ipython3",
   "version": "3.10.14"
  }
 },
 "nbformat": 4,
 "nbformat_minor": 5
}
